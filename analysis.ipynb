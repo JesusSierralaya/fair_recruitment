{
 "cells": [
  {
   "cell_type": "markdown",
   "id": "f8ff9010",
   "metadata": {},
   "source": [
    "# TRAIN A SIMPLE MODEL"
   ]
  },
  {
   "cell_type": "markdown",
   "id": "57e343f2",
   "metadata": {},
   "source": [
    "Load libraries"
   ]
  },
  {
   "cell_type": "code",
   "execution_count": 1,
   "id": "8cf7272a",
   "metadata": {},
   "outputs": [],
   "source": [
    "import pandas as pd\n",
    "import matplotlib.pyplot as plt\n",
    "\n",
    "# preprocess the data\n",
    "# if there is a problem pip install scikit-learn\n",
    "from sklearn.model_selection import train_test_split\n",
    "from sklearn.preprocessing import StandardScaler, LabelEncoder\n",
    "# train the model\n",
    "# problem longpath https://www.youtube.com/watch?v=uMxDjyOgLcI\n",
    "import tensorflow as tf\n",
    "from tensorflow.keras.models import Sequential\n",
    "from tensorflow.keras.layers import Dense"
   ]
  },
  {
   "cell_type": "markdown",
   "id": "3365d94f",
   "metadata": {},
   "source": [
    "Load the data"
   ]
  },
  {
   "cell_type": "code",
   "execution_count": 2,
   "id": "db247125",
   "metadata": {},
   "outputs": [
    {
     "data": {
      "text/html": [
       "<div>\n",
       "<style scoped>\n",
       "    .dataframe tbody tr th:only-of-type {\n",
       "        vertical-align: middle;\n",
       "    }\n",
       "\n",
       "    .dataframe tbody tr th {\n",
       "        vertical-align: top;\n",
       "    }\n",
       "\n",
       "    .dataframe thead th {\n",
       "        text-align: right;\n",
       "    }\n",
       "</style>\n",
       "<table border=\"1\" class=\"dataframe\">\n",
       "  <thead>\n",
       "    <tr style=\"text-align: right;\">\n",
       "      <th></th>\n",
       "      <th>Employee_Name</th>\n",
       "      <th>EmpID</th>\n",
       "      <th>MarriedID</th>\n",
       "      <th>MaritalStatusID</th>\n",
       "      <th>GenderID</th>\n",
       "      <th>EmpStatusID</th>\n",
       "      <th>DeptID</th>\n",
       "      <th>PerfScoreID</th>\n",
       "      <th>FromDiversityJobFairID</th>\n",
       "      <th>Salary</th>\n",
       "      <th>...</th>\n",
       "      <th>ManagerName</th>\n",
       "      <th>ManagerID</th>\n",
       "      <th>RecruitmentSource</th>\n",
       "      <th>PerformanceScore</th>\n",
       "      <th>EngagementSurvey</th>\n",
       "      <th>EmpSatisfaction</th>\n",
       "      <th>SpecialProjectsCount</th>\n",
       "      <th>LastPerformanceReview_Date</th>\n",
       "      <th>DaysLateLast30</th>\n",
       "      <th>Absences</th>\n",
       "    </tr>\n",
       "  </thead>\n",
       "  <tbody>\n",
       "    <tr>\n",
       "      <th>0</th>\n",
       "      <td>Adinolfi, Wilson  K</td>\n",
       "      <td>10026</td>\n",
       "      <td>0</td>\n",
       "      <td>0</td>\n",
       "      <td>1</td>\n",
       "      <td>1</td>\n",
       "      <td>5</td>\n",
       "      <td>4</td>\n",
       "      <td>0</td>\n",
       "      <td>62506</td>\n",
       "      <td>...</td>\n",
       "      <td>Michael Albert</td>\n",
       "      <td>22.0</td>\n",
       "      <td>LinkedIn</td>\n",
       "      <td>Exceeds</td>\n",
       "      <td>4.60</td>\n",
       "      <td>5</td>\n",
       "      <td>0</td>\n",
       "      <td>1/17/2019</td>\n",
       "      <td>0</td>\n",
       "      <td>1</td>\n",
       "    </tr>\n",
       "    <tr>\n",
       "      <th>1</th>\n",
       "      <td>Ait Sidi, Karthikeyan</td>\n",
       "      <td>10084</td>\n",
       "      <td>1</td>\n",
       "      <td>1</td>\n",
       "      <td>1</td>\n",
       "      <td>5</td>\n",
       "      <td>3</td>\n",
       "      <td>3</td>\n",
       "      <td>0</td>\n",
       "      <td>104437</td>\n",
       "      <td>...</td>\n",
       "      <td>Simon Roup</td>\n",
       "      <td>4.0</td>\n",
       "      <td>Indeed</td>\n",
       "      <td>Fully Meets</td>\n",
       "      <td>4.96</td>\n",
       "      <td>3</td>\n",
       "      <td>6</td>\n",
       "      <td>2/24/2016</td>\n",
       "      <td>0</td>\n",
       "      <td>17</td>\n",
       "    </tr>\n",
       "    <tr>\n",
       "      <th>2</th>\n",
       "      <td>Akinkuolie, Sarah</td>\n",
       "      <td>10196</td>\n",
       "      <td>1</td>\n",
       "      <td>1</td>\n",
       "      <td>0</td>\n",
       "      <td>5</td>\n",
       "      <td>5</td>\n",
       "      <td>3</td>\n",
       "      <td>0</td>\n",
       "      <td>64955</td>\n",
       "      <td>...</td>\n",
       "      <td>Kissy Sullivan</td>\n",
       "      <td>20.0</td>\n",
       "      <td>LinkedIn</td>\n",
       "      <td>Fully Meets</td>\n",
       "      <td>3.02</td>\n",
       "      <td>3</td>\n",
       "      <td>0</td>\n",
       "      <td>5/15/2012</td>\n",
       "      <td>0</td>\n",
       "      <td>3</td>\n",
       "    </tr>\n",
       "    <tr>\n",
       "      <th>3</th>\n",
       "      <td>Alagbe,Trina</td>\n",
       "      <td>10088</td>\n",
       "      <td>1</td>\n",
       "      <td>1</td>\n",
       "      <td>0</td>\n",
       "      <td>1</td>\n",
       "      <td>5</td>\n",
       "      <td>3</td>\n",
       "      <td>0</td>\n",
       "      <td>64991</td>\n",
       "      <td>...</td>\n",
       "      <td>Elijiah Gray</td>\n",
       "      <td>16.0</td>\n",
       "      <td>Indeed</td>\n",
       "      <td>Fully Meets</td>\n",
       "      <td>4.84</td>\n",
       "      <td>5</td>\n",
       "      <td>0</td>\n",
       "      <td>1/3/2019</td>\n",
       "      <td>0</td>\n",
       "      <td>15</td>\n",
       "    </tr>\n",
       "    <tr>\n",
       "      <th>4</th>\n",
       "      <td>Anderson, Carol</td>\n",
       "      <td>10069</td>\n",
       "      <td>0</td>\n",
       "      <td>2</td>\n",
       "      <td>0</td>\n",
       "      <td>5</td>\n",
       "      <td>5</td>\n",
       "      <td>3</td>\n",
       "      <td>0</td>\n",
       "      <td>50825</td>\n",
       "      <td>...</td>\n",
       "      <td>Webster Butler</td>\n",
       "      <td>39.0</td>\n",
       "      <td>Google Search</td>\n",
       "      <td>Fully Meets</td>\n",
       "      <td>5.00</td>\n",
       "      <td>4</td>\n",
       "      <td>0</td>\n",
       "      <td>2/1/2016</td>\n",
       "      <td>0</td>\n",
       "      <td>2</td>\n",
       "    </tr>\n",
       "  </tbody>\n",
       "</table>\n",
       "<p>5 rows × 36 columns</p>\n",
       "</div>"
      ],
      "text/plain": [
       "              Employee_Name  EmpID  MarriedID  MaritalStatusID  GenderID  \\\n",
       "0       Adinolfi, Wilson  K  10026          0                0         1   \n",
       "1  Ait Sidi, Karthikeyan     10084          1                1         1   \n",
       "2         Akinkuolie, Sarah  10196          1                1         0   \n",
       "3              Alagbe,Trina  10088          1                1         0   \n",
       "4          Anderson, Carol   10069          0                2         0   \n",
       "\n",
       "   EmpStatusID  DeptID  PerfScoreID  FromDiversityJobFairID  Salary  ...  \\\n",
       "0            1       5            4                       0   62506  ...   \n",
       "1            5       3            3                       0  104437  ...   \n",
       "2            5       5            3                       0   64955  ...   \n",
       "3            1       5            3                       0   64991  ...   \n",
       "4            5       5            3                       0   50825  ...   \n",
       "\n",
       "      ManagerName  ManagerID RecruitmentSource PerformanceScore  \\\n",
       "0  Michael Albert       22.0          LinkedIn          Exceeds   \n",
       "1      Simon Roup        4.0            Indeed      Fully Meets   \n",
       "2  Kissy Sullivan       20.0          LinkedIn      Fully Meets   \n",
       "3    Elijiah Gray       16.0            Indeed      Fully Meets   \n",
       "4  Webster Butler       39.0     Google Search      Fully Meets   \n",
       "\n",
       "   EngagementSurvey EmpSatisfaction SpecialProjectsCount  \\\n",
       "0              4.60               5                    0   \n",
       "1              4.96               3                    6   \n",
       "2              3.02               3                    0   \n",
       "3              4.84               5                    0   \n",
       "4              5.00               4                    0   \n",
       "\n",
       "  LastPerformanceReview_Date DaysLateLast30 Absences  \n",
       "0                  1/17/2019              0        1  \n",
       "1                  2/24/2016              0       17  \n",
       "2                  5/15/2012              0        3  \n",
       "3                   1/3/2019              0       15  \n",
       "4                   2/1/2016              0        2  \n",
       "\n",
       "[5 rows x 36 columns]"
      ]
     },
     "execution_count": 2,
     "metadata": {},
     "output_type": "execute_result"
    }
   ],
   "source": [
    "df = pd.read_csv(\"HRDataset_v14.csv\")\n",
    "df.head()"
   ]
  },
  {
   "cell_type": "markdown",
   "id": "6d8fd889",
   "metadata": {},
   "source": [
    "List all the variables"
   ]
  },
  {
   "cell_type": "code",
   "execution_count": 3,
   "id": "a1b3f24c",
   "metadata": {},
   "outputs": [
    {
     "name": "stdout",
     "output_type": "stream",
     "text": [
      "All variables:\n",
      "- Employee_Name\n",
      "- EmpID\n",
      "- MarriedID\n",
      "- MaritalStatusID\n",
      "- GenderID\n",
      "- EmpStatusID\n",
      "- DeptID\n",
      "- PerfScoreID\n",
      "- FromDiversityJobFairID\n",
      "- Salary\n",
      "- Termd\n",
      "- PositionID\n",
      "- Position\n",
      "- State\n",
      "- Zip\n",
      "- DOB\n",
      "- Sex\n",
      "- MaritalDesc\n",
      "- CitizenDesc\n",
      "- HispanicLatino\n",
      "- RaceDesc\n",
      "- DateofHire\n",
      "- DateofTermination\n",
      "- TermReason\n",
      "- EmploymentStatus\n",
      "- Department\n",
      "- ManagerName\n",
      "- ManagerID\n",
      "- RecruitmentSource\n",
      "- PerformanceScore\n",
      "- EngagementSurvey\n",
      "- EmpSatisfaction\n",
      "- SpecialProjectsCount\n",
      "- LastPerformanceReview_Date\n",
      "- DaysLateLast30\n",
      "- Absences\n"
     ]
    }
   ],
   "source": [
    "print(\"All variables:\")\n",
    "for col in df.columns:\n",
    "    print(\"-\", col)"
   ]
  },
  {
   "cell_type": "markdown",
   "id": "a6a0287b",
   "metadata": {},
   "source": [
    "Descriptive of the target / dependent variable"
   ]
  },
  {
   "cell_type": "code",
   "execution_count": 4,
   "id": "527c8d25",
   "metadata": {},
   "outputs": [
    {
     "data": {
      "image/png": "[encoded data removed]",
      "text/plain": [
       "<Figure size 600x400 with 1 Axes>"
      ]
     },
     "metadata": {},
     "output_type": "display_data"
    }
   ],
   "source": [
    "# Plot a bar chart for Termd values\n",
    "plt.figure(figsize=(6, 4))\n",
    "df['Termd'].value_counts().sort_index().plot(kind='bar', edgecolor='black')\n",
    "\n",
    "# Add labels and title\n",
    "plt.title('Distribution of Termination Status (Termd)')\n",
    "plt.xlabel('Termd (0 = Active, 1 = Terminated)')\n",
    "plt.ylabel('Number of Employees')\n",
    "plt.xticks(ticks=[0, 1], labels=['Active', 'Terminated'], rotation=0)\n",
    "plt.grid(axis='y')\n",
    "plt.tight_layout()\n",
    "\n",
    "# Show the plot\n",
    "plt.show()"
   ]
  },
  {
   "cell_type": "markdown",
   "id": "b9d8b061",
   "metadata": {},
   "source": [
    "Clean the data"
   ]
  },
  {
   "cell_type": "code",
   "execution_count": 5,
   "id": "f87350d2",
   "metadata": {},
   "outputs": [
    {
     "name": "stdout",
     "output_type": "stream",
     "text": [
      "✅ Cleaned dataset shape: (303, 17)\n",
      "📋 Variables used:\n",
      "- MarriedID\n",
      "- MaritalStatusID\n",
      "- GenderID\n",
      "- EmpStatusID\n",
      "- DeptID\n",
      "- PerfScoreID\n",
      "- FromDiversityJobFairID\n",
      "- Salary\n",
      "- Termd\n",
      "- PositionID\n",
      "- HispanicLatino\n",
      "- ManagerID\n",
      "- EngagementSurvey\n",
      "- EmpSatisfaction\n",
      "- SpecialProjectsCount\n",
      "- DaysLateLast30\n",
      "- Absences\n"
     ]
    }
   ],
   "source": [
    "# Drop columns that are mostly text, IDs, or not useful for a simple model\n",
    "\"\"\" columns_to_drop = [\n",
    "    'Employee_Name', 'EmpID', 'TermReason', 'Position', 'State', 'Zip', 'DOB',\n",
    "    'Sex', 'MaritalDesc', 'CitizenDesc', 'RaceDesc', 'DateofHire', 'DateofTermination',\n",
    "    'EmploymentStatus', 'Department', 'ManagerName', 'RecruitmentSource',\n",
    "    'PerformanceScore', 'LastPerformanceReview_Date'\n",
    "] \"\"\"\n",
    "\n",
    "columns_to_drop = [\n",
    "    'Employee_Name', 'EmpID', 'TermReason', 'Position', 'State', 'Zip', 'DOB',\n",
    "    'Sex', 'MaritalDesc', 'CitizenDesc', 'RaceDesc', 'DateofHire', 'DateofTermination',\n",
    "    'EmploymentStatus', 'Department', 'ManagerName', 'RecruitmentSource',\n",
    "    'PerformanceScore', 'LastPerformanceReview_Date'\n",
    "]\n",
    "\n",
    "# Drop those columns\n",
    "df_clean = df.drop(columns=columns_to_drop)\n",
    "\n",
    "# Drop rows with any missing values\n",
    "df_clean = df_clean.dropna()\n",
    "\n",
    "# Show shape and columns after cleaning\n",
    "print(\"✅ Cleaned dataset shape:\", df_clean.shape)\n",
    "print(\"📋 Variables used:\")\n",
    "for col in df_clean.columns:\n",
    "    print(\"-\", col)"
   ]
  },
  {
   "cell_type": "markdown",
   "id": "1be4df3b",
   "metadata": {},
   "source": [
    "Pre process the variable"
   ]
  },
  {
   "cell_type": "markdown",
   "id": "ce8015ed",
   "metadata": {},
   "source": [
    "What We Do and Why:\n",
    "\n",
    "| Task                            | What it Does                                 | Why it's Important                                |\n",
    "|---------------------------------|-----------------------------------------------|---------------------------------------------------|\n",
    "| 1️⃣ Separate features and target | `X = predictors`, `y = Termd`                 | We need to tell the model what to predict.        |\n",
    "| 2️⃣ Encode categorical columns   | Convert text like “yes”/“no” into numbers     | Models can’t work with strings directly.          |\n",
    "| 3️⃣ Scale numeric values         | Standardize to mean = 0, std = 1              | Makes training faster and more stable.            |\n",
    "| 4️⃣ Split into train/test        | 80% for training, 20% for testing             | To check how well the model generalizes.          |"
   ]
  },
  {
   "cell_type": "code",
   "execution_count": 6,
   "id": "447e50cd",
   "metadata": {},
   "outputs": [
    {
     "name": "stdout",
     "output_type": "stream",
     "text": [
      "✅ Preprocessing complete.\n",
      "🔢 Training data shape: (242, 16)\n",
      "🔢 Test data shape: (61, 16)\n"
     ]
    }
   ],
   "source": [
    "# 1️⃣ Separate features and target\n",
    "X = df_clean.drop(columns='Termd')\n",
    "y = df_clean['Termd']\n",
    "\n",
    "# 2️⃣ Encode categorical columns\n",
    "# (HispanicLatino is the only column with 'yes'/'no')\n",
    "if X['HispanicLatino'].dtype == 'object':\n",
    "    le = LabelEncoder()\n",
    "    X['HispanicLatino'] = le.fit_transform(X['HispanicLatino'])\n",
    "\n",
    "# 3️⃣ Scale numerical values\n",
    "scaler = StandardScaler()\n",
    "X_scaled = scaler.fit_transform(X)\n",
    "\n",
    "# 4️⃣ Split into training and testing sets\n",
    "X_train, X_test, y_train, y_test = train_test_split(\n",
    "    X_scaled, y, test_size=0.2, random_state=42\n",
    ")\n",
    "\n",
    "# Print results\n",
    "print(\"✅ Preprocessing complete.\")\n",
    "print(\"🔢 Training data shape:\", X_train.shape)\n",
    "print(\"🔢 Test data shape:\", X_test.shape)"
   ]
  },
  {
   "cell_type": "markdown",
   "id": "90924db6",
   "metadata": {},
   "source": [
    "Train the model"
   ]
  },
  {
   "cell_type": "markdown",
   "id": "29c3596c",
   "metadata": {},
   "source": [
    "Now that the dataset is cleaned and preprocessed, we will train a **basic neural network using TensorFlow** to predict whether an employee will be terminated (`Termd`).\n",
    "\n",
    "### Model Structure:\n",
    "- **Input Layer**: Takes the 16 preprocessed features.\n",
    "- **Hidden Layer 1**: 16 neurons with ReLU activation.\n",
    "- **Hidden Layer 2**: 8 neurons with ReLU activation.\n",
    "- **Output Layer**: 1 neuron with sigmoid activation (for binary classification).\n",
    "\n",
    "### Why This Model?\n",
    "This model is intentionally simple:\n",
    "- ✅ It’s fast to train.\n",
    "- ✅ It allows us to **observe biases** before we apply debiasing.\n",
    "- ✅ It's good for initial benchmarking.\n",
    "\n",
    "### Compilation Details:\n",
    "- **Loss Function**: `binary_crossentropy` (ideal for binary classification).\n",
    "- **Optimizer**: `adam` (robust default optimizer).\n",
    "- **Metrics**: `accuracy` to measure correct classifications.\n",
    "\n",
    "Once trained, the model is evaluated on the test set and its performance (accuracy) is printed."
   ]
  },
  {
   "cell_type": "code",
   "execution_count": 7,
   "id": "095919b1",
   "metadata": {},
   "outputs": [
    {
     "name": "stdout",
     "output_type": "stream",
     "text": [
      "Epoch 1/30\n"
     ]
    },
    {
     "name": "stderr",
     "output_type": "stream",
     "text": [
      "C:\\Users\\jesus\\AppData\\Local\\Packages\\PythonSoftwareFoundation.Python.3.11_qbz5n2kfra8p0\\LocalCache\\local-packages\\Python311\\site-packages\\keras\\src\\layers\\core\\dense.py:93: UserWarning: Do not pass an `input_shape`/`input_dim` argument to a layer. When using Sequential models, prefer using an `Input(shape)` object as the first layer in the model instead.\n",
      "  super().__init__(activity_regularizer=activity_regularizer, **kwargs)\n"
     ]
    },
    {
     "name": "stdout",
     "output_type": "stream",
     "text": [
      "\u001b[1m16/16\u001b[0m \u001b[32m━━━━━━━━━━━━━━━━━━━━\u001b[0m\u001b[37m\u001b[0m \u001b[1m1s\u001b[0m 19ms/step - accuracy: 0.5363 - loss: 0.6952 - val_accuracy: 0.5738 - val_loss: 0.7024\n",
      "Epoch 2/30\n",
      "\u001b[1m16/16\u001b[0m \u001b[32m━━━━━━━━━━━━━━━━━━━━\u001b[0m\u001b[37m\u001b[0m \u001b[1m0s\u001b[0m 6ms/step - accuracy: 0.6241 - loss: 0.6622 - val_accuracy: 0.5902 - val_loss: 0.6812\n",
      "Epoch 3/30\n",
      "\u001b[1m16/16\u001b[0m \u001b[32m━━━━━━━━━━━━━━━━━━━━\u001b[0m\u001b[37m\u001b[0m \u001b[1m0s\u001b[0m 5ms/step - accuracy: 0.7059 - loss: 0.6198 - val_accuracy: 0.6230 - val_loss: 0.6647\n",
      "Epoch 4/30\n",
      "\u001b[1m16/16\u001b[0m \u001b[32m━━━━━━━━━━━━━━━━━━━━\u001b[0m\u001b[37m\u001b[0m \u001b[1m0s\u001b[0m 4ms/step - accuracy: 0.6986 - loss: 0.6196 - val_accuracy: 0.6230 - val_loss: 0.6481\n",
      "Epoch 5/30\n",
      "\u001b[1m16/16\u001b[0m \u001b[32m━━━━━━━━━━━━━━━━━━━━\u001b[0m\u001b[37m\u001b[0m \u001b[1m0s\u001b[0m 5ms/step - accuracy: 0.6804 - loss: 0.5927 - val_accuracy: 0.6066 - val_loss: 0.6318\n",
      "Epoch 6/30\n",
      "\u001b[1m16/16\u001b[0m \u001b[32m━━━━━━━━━━━━━━━━━━━━\u001b[0m\u001b[37m\u001b[0m \u001b[1m0s\u001b[0m 4ms/step - accuracy: 0.6872 - loss: 0.5743 - val_accuracy: 0.6230 - val_loss: 0.6158\n",
      "Epoch 7/30\n",
      "\u001b[1m16/16\u001b[0m \u001b[32m━━━━━━━━━━━━━━━━━━━━\u001b[0m\u001b[37m\u001b[0m \u001b[1m0s\u001b[0m 5ms/step - accuracy: 0.7127 - loss: 0.5303 - val_accuracy: 0.6393 - val_loss: 0.5985\n",
      "Epoch 8/30\n",
      "\u001b[1m16/16\u001b[0m \u001b[32m━━━━━━━━━━━━━━━━━━━━\u001b[0m\u001b[37m\u001b[0m \u001b[1m0s\u001b[0m 4ms/step - accuracy: 0.6623 - loss: 0.5292 - val_accuracy: 0.6393 - val_loss: 0.5824\n",
      "Epoch 9/30\n",
      "\u001b[1m16/16\u001b[0m \u001b[32m━━━━━━━━━━━━━━━━━━━━\u001b[0m\u001b[37m\u001b[0m \u001b[1m0s\u001b[0m 5ms/step - accuracy: 0.7105 - loss: 0.4928 - val_accuracy: 0.6393 - val_loss: 0.5616\n",
      "Epoch 10/30\n",
      "\u001b[1m16/16\u001b[0m \u001b[32m━━━━━━━━━━━━━━━━━━━━\u001b[0m\u001b[37m\u001b[0m \u001b[1m0s\u001b[0m 4ms/step - accuracy: 0.7152 - loss: 0.4815 - val_accuracy: 0.6557 - val_loss: 0.5422\n",
      "Epoch 11/30\n",
      "\u001b[1m16/16\u001b[0m \u001b[32m━━━━━━━━━━━━━━━━━━━━\u001b[0m\u001b[37m\u001b[0m \u001b[1m0s\u001b[0m 5ms/step - accuracy: 0.7437 - loss: 0.4129 - val_accuracy: 0.6557 - val_loss: 0.5219\n",
      "Epoch 12/30\n",
      "\u001b[1m16/16\u001b[0m \u001b[32m━━━━━━━━━━━━━━━━━━━━\u001b[0m\u001b[37m\u001b[0m \u001b[1m0s\u001b[0m 5ms/step - accuracy: 0.7580 - loss: 0.4156 - val_accuracy: 0.6885 - val_loss: 0.5008\n",
      "Epoch 13/30\n",
      "\u001b[1m16/16\u001b[0m \u001b[32m━━━━━━━━━━━━━━━━━━━━\u001b[0m\u001b[37m\u001b[0m \u001b[1m0s\u001b[0m 5ms/step - accuracy: 0.7125 - loss: 0.4379 - val_accuracy: 0.7213 - val_loss: 0.4766\n",
      "Epoch 14/30\n",
      "\u001b[1m16/16\u001b[0m \u001b[32m━━━━━━━━━━━━━━━━━━━━\u001b[0m\u001b[37m\u001b[0m \u001b[1m0s\u001b[0m 4ms/step - accuracy: 0.7933 - loss: 0.3757 - val_accuracy: 0.7377 - val_loss: 0.4520\n",
      "Epoch 15/30\n",
      "\u001b[1m16/16\u001b[0m \u001b[32m━━━━━━━━━━━━━━━━━━━━\u001b[0m\u001b[37m\u001b[0m \u001b[1m0s\u001b[0m 4ms/step - accuracy: 0.8626 - loss: 0.3552 - val_accuracy: 0.7869 - val_loss: 0.4251\n",
      "Epoch 16/30\n",
      "\u001b[1m16/16\u001b[0m \u001b[32m━━━━━━━━━━━━━━━━━━━━\u001b[0m\u001b[37m\u001b[0m \u001b[1m0s\u001b[0m 4ms/step - accuracy: 0.8923 - loss: 0.3504 - val_accuracy: 0.8197 - val_loss: 0.4036\n",
      "Epoch 17/30\n",
      "\u001b[1m16/16\u001b[0m \u001b[32m━━━━━━━━━━━━━━━━━━━━\u001b[0m\u001b[37m\u001b[0m \u001b[1m0s\u001b[0m 5ms/step - accuracy: 0.9184 - loss: 0.3038 - val_accuracy: 0.8361 - val_loss: 0.3802\n",
      "Epoch 18/30\n",
      "\u001b[1m16/16\u001b[0m \u001b[32m━━━━━━━━━━━━━━━━━━━━\u001b[0m\u001b[37m\u001b[0m \u001b[1m0s\u001b[0m 4ms/step - accuracy: 0.9416 - loss: 0.2850 - val_accuracy: 0.8689 - val_loss: 0.3568\n",
      "Epoch 19/30\n",
      "\u001b[1m16/16\u001b[0m \u001b[32m━━━━━━━━━━━━━━━━━━━━\u001b[0m\u001b[37m\u001b[0m \u001b[1m0s\u001b[0m 5ms/step - accuracy: 0.9165 - loss: 0.2874 - val_accuracy: 0.8852 - val_loss: 0.3369\n",
      "Epoch 20/30\n",
      "\u001b[1m16/16\u001b[0m \u001b[32m━━━━━━━━━━━━━━━━━━━━\u001b[0m\u001b[37m\u001b[0m \u001b[1m0s\u001b[0m 5ms/step - accuracy: 0.9395 - loss: 0.2724 - val_accuracy: 0.9016 - val_loss: 0.3162\n",
      "Epoch 21/30\n",
      "\u001b[1m16/16\u001b[0m \u001b[32m━━━━━━━━━━━━━━━━━━━━\u001b[0m\u001b[37m\u001b[0m \u001b[1m0s\u001b[0m 5ms/step - accuracy: 0.9537 - loss: 0.2233 - val_accuracy: 0.9016 - val_loss: 0.2987\n",
      "Epoch 22/30\n",
      "\u001b[1m16/16\u001b[0m \u001b[32m━━━━━━━━━━━━━━━━━━━━\u001b[0m\u001b[37m\u001b[0m \u001b[1m0s\u001b[0m 4ms/step - accuracy: 0.9592 - loss: 0.2329 - val_accuracy: 0.9180 - val_loss: 0.2813\n",
      "Epoch 23/30\n",
      "\u001b[1m16/16\u001b[0m \u001b[32m━━━━━━━━━━━━━━━━━━━━\u001b[0m\u001b[37m\u001b[0m \u001b[1m0s\u001b[0m 4ms/step - accuracy: 0.9831 - loss: 0.1943 - val_accuracy: 0.9180 - val_loss: 0.2648\n",
      "Epoch 24/30\n",
      "\u001b[1m16/16\u001b[0m \u001b[32m━━━━━━━━━━━━━━━━━━━━\u001b[0m\u001b[37m\u001b[0m \u001b[1m0s\u001b[0m 4ms/step - accuracy: 0.9868 - loss: 0.1620 - val_accuracy: 0.9180 - val_loss: 0.2494\n",
      "Epoch 25/30\n",
      "\u001b[1m16/16\u001b[0m \u001b[32m━━━━━━━━━━━━━━━━━━━━\u001b[0m\u001b[37m\u001b[0m \u001b[1m0s\u001b[0m 4ms/step - accuracy: 0.9847 - loss: 0.1713 - val_accuracy: 0.9180 - val_loss: 0.2278\n",
      "Epoch 26/30\n",
      "\u001b[1m16/16\u001b[0m \u001b[32m━━━━━━━━━━━━━━━━━━━━\u001b[0m\u001b[37m\u001b[0m \u001b[1m0s\u001b[0m 5ms/step - accuracy: 0.9849 - loss: 0.1428 - val_accuracy: 0.9508 - val_loss: 0.2147\n",
      "Epoch 27/30\n",
      "\u001b[1m16/16\u001b[0m \u001b[32m━━━━━━━━━━━━━━━━━━━━\u001b[0m\u001b[37m\u001b[0m \u001b[1m0s\u001b[0m 4ms/step - accuracy: 0.9851 - loss: 0.1470 - val_accuracy: 0.9508 - val_loss: 0.2024\n",
      "Epoch 28/30\n",
      "\u001b[1m16/16\u001b[0m \u001b[32m━━━━━━━━━━━━━━━━━━━━\u001b[0m\u001b[37m\u001b[0m \u001b[1m0s\u001b[0m 4ms/step - accuracy: 0.9810 - loss: 0.1224 - val_accuracy: 0.9508 - val_loss: 0.1930\n",
      "Epoch 29/30\n",
      "\u001b[1m16/16\u001b[0m \u001b[32m━━━━━━━━━━━━━━━━━━━━\u001b[0m\u001b[37m\u001b[0m \u001b[1m0s\u001b[0m 4ms/step - accuracy: 0.9838 - loss: 0.1233 - val_accuracy: 0.9508 - val_loss: 0.1818\n",
      "Epoch 30/30\n",
      "\u001b[1m16/16\u001b[0m \u001b[32m━━━━━━━━━━━━━━━━━━━━\u001b[0m\u001b[37m\u001b[0m \u001b[1m0s\u001b[0m 4ms/step - accuracy: 0.9923 - loss: 0.1026 - val_accuracy: 0.9672 - val_loss: 0.1724\n",
      "\u001b[1m2/2\u001b[0m \u001b[32m━━━━━━━━━━━━━━━━━━━━\u001b[0m\u001b[37m\u001b[0m \u001b[1m0s\u001b[0m 18ms/step - accuracy: 0.9781 - loss: 0.1598\n",
      "Test Accuracy: 0.97\n"
     ]
    }
   ],
   "source": [
    "# 1️⃣ Define a simple neural network\n",
    "model = Sequential([\n",
    "    Dense(16, activation='relu', input_shape=(X_train.shape[1],)),  # input layer\n",
    "    Dense(8, activation='relu'),                                     # hidden layer\n",
    "    Dense(1, activation='sigmoid')                                   # output layer (binary classification)\n",
    "])\n",
    "\n",
    "# 2️⃣ Compile the model\n",
    "model.compile(\n",
    "    optimizer='adam',\n",
    "    loss='binary_crossentropy',\n",
    "    metrics=['accuracy']\n",
    ")\n",
    "\n",
    "# 3️⃣ Train the model\n",
    "history = model.fit(\n",
    "    X_train, y_train,\n",
    "    validation_data=(X_test, y_test),\n",
    "    epochs=30,\n",
    "    batch_size=16,\n",
    "    verbose=1\n",
    ")\n",
    "\n",
    "# 4️⃣ Evaluate performance\n",
    "loss, accuracy = model.evaluate(X_test, y_test)\n",
    "print(f\"Test Accuracy: {accuracy:.2f}\")"
   ]
  },
  {
   "cell_type": "markdown",
   "id": "3d077339",
   "metadata": {},
   "source": [
    "# COMPARE MODEL PERFORMANCE"
   ]
  },
  {
   "cell_type": "markdown",
   "id": "1bde123c",
   "metadata": {},
   "source": [
    "Split the test set by gender"
   ]
  },
  {
   "cell_type": "markdown",
   "id": "78655abc",
   "metadata": {},
   "source": [
    "Separate X_test and y_test into two groups: Male and Female based on the GenderID column (typically 0 = Female, 1 = Male)."
   ]
  },
  {
   "cell_type": "markdown",
   "id": "9adec8eb",
   "metadata": {},
   "source": [
    "Evaluate the Model Separately."
   ]
  },
  {
   "cell_type": "code",
   "execution_count": 8,
   "id": "a7cfb7d4",
   "metadata": {},
   "outputs": [],
   "source": [
    "df_clean = df_clean.reset_index(drop=True)"
   ]
  },
  {
   "cell_type": "markdown",
   "id": "d655b64d",
   "metadata": {},
   "source": [
    "## Gender\n"
   ]
  },
  {
   "cell_type": "code",
   "execution_count": 9,
   "id": "6e53ddf4",
   "metadata": {},
   "outputs": [],
   "source": [
    "# Split data\n",
    "X = df_clean.drop(columns=['Termd'])\n",
    "y = df_clean['Termd']\n",
    "gender_series = df_clean['GenderID']  # Save GenderID\n",
    "\n",
    "from sklearn.model_selection import train_test_split\n",
    "X_train, X_test, y_train, y_test = train_test_split(X, y, test_size=0.2, random_state=42)\n"
   ]
  },
  {
   "cell_type": "code",
   "execution_count": 10,
   "id": "bde06b4f",
   "metadata": {},
   "outputs": [
    {
     "name": "stdout",
     "output_type": "stream",
     "text": [
      "\u001b[1m2/2\u001b[0m \u001b[32m━━━━━━━━━━━━━━━━━━━━\u001b[0m\u001b[37m\u001b[0m \u001b[1m0s\u001b[0m 34ms/step\n"
     ]
    }
   ],
   "source": [
    "X_test_numeric = X_test.copy()\n",
    "X_test_numeric = X_test_numeric.apply(pd.to_numeric, errors='coerce')  # force numeric\n",
    "y_probs = model.predict(X_test_numeric).flatten()\n",
    "\n",
    "results_df = pd.DataFrame({\n",
    "    'true_label': y_test.values,\n",
    "    'predicted_prob': y_probs,\n",
    "    'GenderID': gender_series.iloc[X_test.index].values\n",
    "})\n",
    "\n",
    "# Optional: decode GenderID if 0 = Female, 1 = Male\n",
    "results_df['Gender'] = results_df['GenderID'].map({0: 'Female', 1: 'Male'})\n"
   ]
  },
  {
   "cell_type": "code",
   "execution_count": 11,
   "id": "62173c11",
   "metadata": {},
   "outputs": [
    {
     "data": {
      "text/plain": [
       "Gender\n",
       "Female    0.48949\n",
       "Male      0.48949\n",
       "Name: predicted_prob, dtype: float32"
      ]
     },
     "execution_count": 11,
     "metadata": {},
     "output_type": "execute_result"
    }
   ],
   "source": [
    "results_df.groupby('Gender')['predicted_prob'].mean()"
   ]
  },
  {
   "cell_type": "markdown",
   "id": "b97be3af",
   "metadata": {},
   "source": [
    "No bias in how much risk the model assigns to men vs. women."
   ]
  },
  {
   "cell_type": "markdown",
   "id": "54aa92eb",
   "metadata": {},
   "source": [
    "## HispanicLatino"
   ]
  },
  {
   "cell_type": "code",
   "execution_count": 12,
   "id": "412f1f96",
   "metadata": {},
   "outputs": [],
   "source": [
    "# reset df clean\n",
    "# Drop those columns\n",
    "df_clean = df.drop(columns=columns_to_drop)\n",
    "\n",
    "# Drop rows with any missing values\n",
    "df_clean = df_clean.dropna()"
   ]
  },
  {
   "cell_type": "code",
   "execution_count": 13,
   "id": "302d65a5",
   "metadata": {},
   "outputs": [],
   "source": [
    "# extract the values from the original df_clean before splitting:\n",
    "hispanic_series = df_clean['HispanicLatino'].reset_index(drop=True)"
   ]
  },
  {
   "cell_type": "code",
   "execution_count": 14,
   "id": "97136588",
   "metadata": {},
   "outputs": [],
   "source": [
    "#  After train-test split, align it to test set:\n",
    "results_df['HispanicLatino'] = hispanic_series.iloc[X_test.index].values\n"
   ]
  },
  {
   "cell_type": "code",
   "execution_count": null,
   "id": "38cfb245",
   "metadata": {},
   "outputs": [
    {
     "data": {
      "text/plain": [
       "HispanicLatino\n",
       "No     0.48949\n",
       "Yes    0.48949\n",
       "Name: predicted_prob, dtype: float32"
      ]
     },
     "execution_count": 15,
     "metadata": {},
     "output_type": "execute_result"
    }
   ],
   "source": [
    "# Analyze predictions by Hispanic/Latino status\n",
    "results_df.groupby('HispanicLatino')['predicted_prob'].mean()"
   ]
  },
  {
   "cell_type": "markdown",
   "id": "af138865",
   "metadata": {},
   "source": [
    "We have the same result. That means that the model has no differences among these groups."
   ]
  }
 ],
 "metadata": {
  "kernelspec": {
   "display_name": "Python 3",
   "language": "python",
   "name": "python3"
  },
  "language_info": {
   "codemirror_mode": {
    "name": "ipython",
    "version": 3
   },
   "file_extension": ".py",
   "mimetype": "text/x-python",
   "name": "python",
   "nbconvert_exporter": "python",
   "pygments_lexer": "ipython3",
   "version": "3.11.9"
  }
 },
 "nbformat": 4,
 "nbformat_minor": 5
}
