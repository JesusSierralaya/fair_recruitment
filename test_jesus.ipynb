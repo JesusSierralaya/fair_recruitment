{
 "cells": [
  {
   "cell_type": "code",
   "execution_count": 2,
   "id": "ea02104a",
   "metadata": {},
   "outputs": [
    {
     "name": "stdout",
     "output_type": "stream",
     "text": [
      "Classification Report:\n",
      "              precision    recall  f1-score   support\n",
      "\n",
      "           0       1.00      0.67      0.80         3\n",
      "           1       0.75      1.00      0.86         3\n",
      "\n",
      "    accuracy                           0.83         6\n",
      "   macro avg       0.88      0.83      0.83         6\n",
      "weighted avg       0.88      0.83      0.83         6\n",
      "\n",
      "AUC Score: 0.888888888888889\n"
     ]
    }
   ],
   "source": [
    "import pandas as pd\n",
    "from sklearn.model_selection import train_test_split\n",
    "from sklearn.linear_model import LogisticRegression\n",
    "from sklearn.preprocessing import LabelEncoder\n",
    "from sklearn.metrics import classification_report, roc_auc_score\n",
    "\n",
    "# 1. Extended and varied dataset\n",
    "data = {\n",
    "    'ExperienceYears': [1, 3, 5, 2, 7, 6, 8, 2, 4, 9, 3, 5, 6, 1, 7, 3, 8, 5, 4, 9],\n",
    "    'EducationLevel':  [2, 2, 3, 1, 4, 3, 3, 1, 2, 4, 2, 3, 4, 1, 3, 2, 4, 3, 2, 4],\n",
    "    'PerformanceScore':[2, 3, 4, 2, 5, 4, 5, 2, 3, 5, 3, 4, 5, 2, 4, 3, 5, 4, 3, 5],\n",
    "    'Gender': [\n",
    "        'Female', 'Female', 'Male', 'Female', 'Male', 'Male', 'Male', 'Female', 'Male', 'Male',\n",
    "        'Female', 'Female', 'Male', 'Female', 'Male', 'Female', 'Male', 'Female', 'Male', 'Male'\n",
    "    ],\n",
    "    'HispanicLatino': [\n",
    "        'Yes', 'No', 'No', 'Yes', 'No', 'No', 'No', 'Yes', 'No', 'No',\n",
    "        'Yes', 'Yes', 'No', 'Yes', 'No', 'Yes', 'No', 'Yes', 'No', 'No'\n",
    "    ],\n",
    "    'Termd': [\n",
    "        1, 0, 0, 1, 0, 0, 0, 1, 0, 0,\n",
    "        1, 1, 0, 1, 0, 1, 0, 1, 0, 0\n",
    "    ]\n",
    "}\n",
    "\n",
    "df = pd.DataFrame(data)\n",
    "\n",
    "# 2. Encode categorical variables\n",
    "df_encoded = df.copy()\n",
    "df_encoded['Gender'] = LabelEncoder().fit_transform(df_encoded['Gender'])  # Male=1, Female=0\n",
    "df_encoded['HispanicLatino'] = LabelEncoder().fit_transform(df_encoded['HispanicLatino'])  # No=0, Yes=1\n",
    "\n",
    "# 3. Define features and target\n",
    "X = df_encoded.drop(columns='Termd')\n",
    "y = df_encoded['Termd']\n",
    "\n",
    "# 4. Train-test split\n",
    "X_train, X_test, y_train, y_test = train_test_split(X, y, test_size=0.3, random_state=42)\n",
    "\n",
    "# 5. Train model\n",
    "model = LogisticRegression()\n",
    "model.fit(X_train, y_train)\n",
    "\n",
    "# 6. Predict\n",
    "y_pred = model.predict(X_test)\n",
    "y_prob = model.predict_proba(X_test)[:, 1]\n",
    "\n",
    "# 7. Evaluate\n",
    "print(\"Classification Report:\")\n",
    "print(classification_report(y_test, y_pred))\n",
    "print(\"AUC Score:\", roc_auc_score(y_test, y_prob))\n"
   ]
  },
  {
   "cell_type": "code",
   "execution_count": 4,
   "id": "4b01fc73",
   "metadata": {},
   "outputs": [],
   "source": [
    "# 8. Create results DataFrame for bias analysis\n",
    "results_df = X_test.copy()\n",
    "results_df['true_label'] = y_test.values\n",
    "results_df['predicted_prob'] = y_prob"
   ]
  },
  {
   "cell_type": "code",
   "execution_count": 5,
   "id": "b138f8e6",
   "metadata": {},
   "outputs": [],
   "source": [
    "# Add original labels for readability\n",
    "results_df['Gender'] = df.loc[X_test.index, 'Gender'].values\n",
    "results_df['HispanicLatino'] = df.loc[X_test.index, 'HispanicLatino'].values"
   ]
  },
  {
   "cell_type": "code",
   "execution_count": 6,
   "id": "1e1b00fb",
   "metadata": {},
   "outputs": [
    {
     "name": "stdout",
     "output_type": "stream",
     "text": [
      "\n",
      "--- Bias by Gender ---\n",
      "Gender\n",
      "Female    0.767676\n",
      "Male      0.240601\n",
      "Name: predicted_prob, dtype: float64\n",
      "AUC for Female: 0.667\n",
      "AUC for Male: nan\n"
     ]
    },
    {
     "name": "stderr",
     "output_type": "stream",
     "text": [
      "C:\\Users\\jesus\\AppData\\Local\\Packages\\PythonSoftwareFoundation.Python.3.11_qbz5n2kfra8p0\\LocalCache\\local-packages\\Python311\\site-packages\\sklearn\\metrics\\_ranking.py:424: UndefinedMetricWarning: Only one class is present in y_true. ROC AUC score is not defined in that case.\n",
      "  warnings.warn(\n"
     ]
    }
   ],
   "source": [
    "# 9. Bias Analysis by Gender\n",
    "print(\"\\n--- Bias by Gender ---\")\n",
    "print(results_df.groupby('Gender')['predicted_prob'].mean())\n",
    "for gender in results_df['Gender'].unique():\n",
    "    subset = results_df[results_df['Gender'] == gender]\n",
    "    auc = roc_auc_score(subset['true_label'], subset['predicted_prob'])\n",
    "    print(f\"AUC for {gender}: {auc:.3f}\")"
   ]
  },
  {
   "cell_type": "code",
   "execution_count": 7,
   "id": "8cf9a1be",
   "metadata": {},
   "outputs": [
    {
     "name": "stdout",
     "output_type": "stream",
     "text": [
      "\n",
      "--- Bias by HispanicLatino ---\n",
      "HispanicLatino\n",
      "No     0.406687\n",
      "Yes    0.777282\n",
      "Name: predicted_prob, dtype: float64\n",
      "AUC for Yes: nan\n",
      "AUC for No: nan\n"
     ]
    },
    {
     "name": "stderr",
     "output_type": "stream",
     "text": [
      "C:\\Users\\jesus\\AppData\\Local\\Packages\\PythonSoftwareFoundation.Python.3.11_qbz5n2kfra8p0\\LocalCache\\local-packages\\Python311\\site-packages\\sklearn\\metrics\\_ranking.py:424: UndefinedMetricWarning: Only one class is present in y_true. ROC AUC score is not defined in that case.\n",
      "  warnings.warn(\n",
      "C:\\Users\\jesus\\AppData\\Local\\Packages\\PythonSoftwareFoundation.Python.3.11_qbz5n2kfra8p0\\LocalCache\\local-packages\\Python311\\site-packages\\sklearn\\metrics\\_ranking.py:424: UndefinedMetricWarning: Only one class is present in y_true. ROC AUC score is not defined in that case.\n",
      "  warnings.warn(\n"
     ]
    }
   ],
   "source": [
    "\n",
    "# 10. Bias Analysis by HispanicLatino\n",
    "print(\"\\n--- Bias by HispanicLatino ---\")\n",
    "print(results_df.groupby('HispanicLatino')['predicted_prob'].mean())\n",
    "for group in results_df['HispanicLatino'].unique():\n",
    "    subset = results_df[results_df['HispanicLatino'] == group]\n",
    "    auc = roc_auc_score(subset['true_label'], subset['predicted_prob'])\n",
    "    print(f\"AUC for {group}: {auc:.3f}\")"
   ]
  }
 ],
 "metadata": {
  "kernelspec": {
   "display_name": "Python 3",
   "language": "python",
   "name": "python3"
  },
  "language_info": {
   "codemirror_mode": {
    "name": "ipython",
    "version": 3
   },
   "file_extension": ".py",
   "mimetype": "text/x-python",
   "name": "python",
   "nbconvert_exporter": "python",
   "pygments_lexer": "ipython3",
   "version": "3.11.9"
  }
 },
 "nbformat": 4,
 "nbformat_minor": 5
}
